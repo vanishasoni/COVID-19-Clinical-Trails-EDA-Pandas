{
 "cells": [
  {
   "cell_type": "markdown",
   "id": "897d517e",
   "metadata": {},
   "source": [
    "# COVID-19 Clinical Trials — EDA + Simple ML\n",
    "\n",
    "**Project goal:** Clean the dataset, perform exploratory data analysis (EDA), and build a simple model to predict trial `Status` using common fields. This notebook is compact and suitable for an internship portfolio."
   ]
  },
  {
   "cell_type": "markdown",
   "id": "cf8e88a6",
   "metadata": {},
   "source": [
    "## 1. Setup\n",
    "Import libraries and load the CSV."
   ]
  },
  {
   "cell_type": "code",
   "execution_count": 1,
   "id": "98d76ba1",
   "metadata": {},
   "outputs": [
    {
     "data": {
      "text/plain": [
       "(5783, 27)"
      ]
     },
     "execution_count": 1,
     "metadata": {},
     "output_type": "execute_result"
    }
   ],
   "source": [
    "import pandas as pd\n",
    "import numpy as np\n",
    "from pathlib import Path\n",
    "pd.set_option('display.max_columns', None)\n",
    "\n",
    "DATA_PATH = Path('data') / 'covid_clinical_trials.csv'\n",
    "df = pd.read_csv(DATA_PATH, low_memory=False)\n",
    "df.shape\n"
   ]
  },
  {
   "cell_type": "markdown",
   "id": "db7f7ebe",
   "metadata": {},
   "source": [
    "## 2. Quick data peek"
   ]
  },
  {
   "cell_type": "code",
   "execution_count": 2,
   "id": "fcd77273",
   "metadata": {},
   "outputs": [
    {
     "data": {
      "text/html": [
       "<div>\n",
       "<style scoped>\n",
       "    .dataframe tbody tr th:only-of-type {\n",
       "        vertical-align: middle;\n",
       "    }\n",
       "\n",
       "    .dataframe tbody tr th {\n",
       "        vertical-align: top;\n",
       "    }\n",
       "\n",
       "    .dataframe thead th {\n",
       "        text-align: right;\n",
       "    }\n",
       "</style>\n",
       "<table border=\"1\" class=\"dataframe\">\n",
       "  <thead>\n",
       "    <tr style=\"text-align: right;\">\n",
       "      <th></th>\n",
       "      <th>Rank</th>\n",
       "      <th>NCT Number</th>\n",
       "      <th>Title</th>\n",
       "      <th>Acronym</th>\n",
       "      <th>Status</th>\n",
       "      <th>Study Results</th>\n",
       "      <th>Conditions</th>\n",
       "      <th>Interventions</th>\n",
       "      <th>Outcome Measures</th>\n",
       "      <th>Sponsor/Collaborators</th>\n",
       "      <th>Gender</th>\n",
       "      <th>Age</th>\n",
       "      <th>Phases</th>\n",
       "      <th>Enrollment</th>\n",
       "      <th>Funded Bys</th>\n",
       "      <th>Study Type</th>\n",
       "      <th>Study Designs</th>\n",
       "      <th>Other IDs</th>\n",
       "      <th>Start Date</th>\n",
       "      <th>Primary Completion Date</th>\n",
       "      <th>Completion Date</th>\n",
       "      <th>First Posted</th>\n",
       "      <th>Results First Posted</th>\n",
       "      <th>Last Update Posted</th>\n",
       "      <th>Locations</th>\n",
       "      <th>Study Documents</th>\n",
       "      <th>URL</th>\n",
       "    </tr>\n",
       "  </thead>\n",
       "  <tbody>\n",
       "    <tr>\n",
       "      <th>0</th>\n",
       "      <td>1</td>\n",
       "      <td>NCT04785898</td>\n",
       "      <td>Diagnostic Performance of the ID Now™ COVID-19...</td>\n",
       "      <td>COVID-IDNow</td>\n",
       "      <td>Active, not recruiting</td>\n",
       "      <td>No Results Available</td>\n",
       "      <td>Covid19</td>\n",
       "      <td>Diagnostic Test: ID Now™ COVID-19 Screening Test</td>\n",
       "      <td>Evaluate the diagnostic performance of the ID ...</td>\n",
       "      <td>Groupe Hospitalier Paris Saint Joseph</td>\n",
       "      <td>All</td>\n",
       "      <td>18 Years and older   (Adult, Older Adult)</td>\n",
       "      <td>Not Applicable</td>\n",
       "      <td>1000.0</td>\n",
       "      <td>Other</td>\n",
       "      <td>Interventional</td>\n",
       "      <td>Allocation: N/A|Intervention Model: Single Gro...</td>\n",
       "      <td>COVID-IDNow</td>\n",
       "      <td>November 9, 2020</td>\n",
       "      <td>December 22, 2020</td>\n",
       "      <td>April 30, 2021</td>\n",
       "      <td>March 8, 2021</td>\n",
       "      <td>NaN</td>\n",
       "      <td>March 8, 2021</td>\n",
       "      <td>Groupe Hospitalier Paris Saint-Joseph, Paris, ...</td>\n",
       "      <td>NaN</td>\n",
       "      <td>https://ClinicalTrials.gov/show/NCT04785898</td>\n",
       "    </tr>\n",
       "    <tr>\n",
       "      <th>1</th>\n",
       "      <td>2</td>\n",
       "      <td>NCT04595136</td>\n",
       "      <td>Study to Evaluate the Efficacy of COVID19-0001...</td>\n",
       "      <td>COVID-19</td>\n",
       "      <td>Not yet recruiting</td>\n",
       "      <td>No Results Available</td>\n",
       "      <td>SARS-CoV-2 Infection</td>\n",
       "      <td>Drug: Drug COVID19-0001-USR|Drug: normal saline</td>\n",
       "      <td>Change on viral load results from baseline aft...</td>\n",
       "      <td>United Medical Specialties</td>\n",
       "      <td>All</td>\n",
       "      <td>18 Years and older   (Adult, Older Adult)</td>\n",
       "      <td>Phase 1|Phase 2</td>\n",
       "      <td>60.0</td>\n",
       "      <td>Other</td>\n",
       "      <td>Interventional</td>\n",
       "      <td>Allocation: Randomized|Intervention Model: Par...</td>\n",
       "      <td>COVID19-0001-USR</td>\n",
       "      <td>November 2, 2020</td>\n",
       "      <td>December 15, 2020</td>\n",
       "      <td>January 29, 2021</td>\n",
       "      <td>October 20, 2020</td>\n",
       "      <td>NaN</td>\n",
       "      <td>October 20, 2020</td>\n",
       "      <td>Cimedical, Barranquilla, Atlantico, Colombia</td>\n",
       "      <td>NaN</td>\n",
       "      <td>https://ClinicalTrials.gov/show/NCT04595136</td>\n",
       "    </tr>\n",
       "    <tr>\n",
       "      <th>2</th>\n",
       "      <td>3</td>\n",
       "      <td>NCT04395482</td>\n",
       "      <td>Lung CT Scan Analysis of SARS-CoV2 Induced Lun...</td>\n",
       "      <td>TAC-COVID19</td>\n",
       "      <td>Recruiting</td>\n",
       "      <td>No Results Available</td>\n",
       "      <td>covid19</td>\n",
       "      <td>Other: Lung CT scan analysis in COVID-19 patients</td>\n",
       "      <td>A qualitative analysis of parenchymal lung dam...</td>\n",
       "      <td>University of Milano Bicocca</td>\n",
       "      <td>All</td>\n",
       "      <td>18 Years and older   (Adult, Older Adult)</td>\n",
       "      <td>NaN</td>\n",
       "      <td>500.0</td>\n",
       "      <td>Other</td>\n",
       "      <td>Observational</td>\n",
       "      <td>Observational Model: Cohort|Time Perspective: ...</td>\n",
       "      <td>TAC-COVID19</td>\n",
       "      <td>May 7, 2020</td>\n",
       "      <td>June 15, 2021</td>\n",
       "      <td>June 15, 2021</td>\n",
       "      <td>May 20, 2020</td>\n",
       "      <td>NaN</td>\n",
       "      <td>November 9, 2020</td>\n",
       "      <td>Ospedale Papa Giovanni XXIII, Bergamo, Italy|P...</td>\n",
       "      <td>NaN</td>\n",
       "      <td>https://ClinicalTrials.gov/show/NCT04395482</td>\n",
       "    </tr>\n",
       "    <tr>\n",
       "      <th>3</th>\n",
       "      <td>4</td>\n",
       "      <td>NCT04416061</td>\n",
       "      <td>The Role of a Private Hospital in Hong Kong Am...</td>\n",
       "      <td>COVID-19</td>\n",
       "      <td>Active, not recruiting</td>\n",
       "      <td>No Results Available</td>\n",
       "      <td>COVID</td>\n",
       "      <td>Diagnostic Test: COVID 19 Diagnostic Test</td>\n",
       "      <td>Proportion of asymptomatic subjects|Proportion...</td>\n",
       "      <td>Hong Kong Sanatorium &amp; Hospital</td>\n",
       "      <td>All</td>\n",
       "      <td>Child, Adult, Older Adult</td>\n",
       "      <td>NaN</td>\n",
       "      <td>2500.0</td>\n",
       "      <td>Industry</td>\n",
       "      <td>Observational</td>\n",
       "      <td>Observational Model: Cohort|Time Perspective: ...</td>\n",
       "      <td>RC-2020-08</td>\n",
       "      <td>May 25, 2020</td>\n",
       "      <td>July 31, 2020</td>\n",
       "      <td>August 31, 2020</td>\n",
       "      <td>June 4, 2020</td>\n",
       "      <td>NaN</td>\n",
       "      <td>June 4, 2020</td>\n",
       "      <td>Hong Kong Sanatorium &amp; Hospital, Hong Kong, Ho...</td>\n",
       "      <td>NaN</td>\n",
       "      <td>https://ClinicalTrials.gov/show/NCT04416061</td>\n",
       "    </tr>\n",
       "    <tr>\n",
       "      <th>4</th>\n",
       "      <td>5</td>\n",
       "      <td>NCT04395924</td>\n",
       "      <td>Maternal-foetal Transmission of SARS-Cov-2</td>\n",
       "      <td>TMF-COVID-19</td>\n",
       "      <td>Recruiting</td>\n",
       "      <td>No Results Available</td>\n",
       "      <td>Maternal Fetal Infection Transmission|COVID-19...</td>\n",
       "      <td>Diagnostic Test: Diagnosis of SARS-Cov2 by RT-...</td>\n",
       "      <td>COVID-19 by positive PCR in cord blood and / o...</td>\n",
       "      <td>Centre Hospitalier Régional d'Orléans|Centre d...</td>\n",
       "      <td>Female</td>\n",
       "      <td>18 Years to 48 Years   (Adult)</td>\n",
       "      <td>NaN</td>\n",
       "      <td>50.0</td>\n",
       "      <td>Other</td>\n",
       "      <td>Observational</td>\n",
       "      <td>Observational Model: Cohort|Time Perspective: ...</td>\n",
       "      <td>CHRO-2020-10</td>\n",
       "      <td>May 5, 2020</td>\n",
       "      <td>May 2021</td>\n",
       "      <td>May 2021</td>\n",
       "      <td>May 20, 2020</td>\n",
       "      <td>NaN</td>\n",
       "      <td>June 4, 2020</td>\n",
       "      <td>CHR Orléans, Orléans, France</td>\n",
       "      <td>NaN</td>\n",
       "      <td>https://ClinicalTrials.gov/show/NCT04395924</td>\n",
       "    </tr>\n",
       "  </tbody>\n",
       "</table>\n",
       "</div>"
      ],
      "text/plain": [
       "   Rank   NCT Number                                              Title  \\\n",
       "0     1  NCT04785898  Diagnostic Performance of the ID Now™ COVID-19...   \n",
       "1     2  NCT04595136  Study to Evaluate the Efficacy of COVID19-0001...   \n",
       "2     3  NCT04395482  Lung CT Scan Analysis of SARS-CoV2 Induced Lun...   \n",
       "3     4  NCT04416061  The Role of a Private Hospital in Hong Kong Am...   \n",
       "4     5  NCT04395924         Maternal-foetal Transmission of SARS-Cov-2   \n",
       "\n",
       "        Acronym                  Status         Study Results  \\\n",
       "0   COVID-IDNow  Active, not recruiting  No Results Available   \n",
       "1      COVID-19      Not yet recruiting  No Results Available   \n",
       "2   TAC-COVID19              Recruiting  No Results Available   \n",
       "3      COVID-19  Active, not recruiting  No Results Available   \n",
       "4  TMF-COVID-19              Recruiting  No Results Available   \n",
       "\n",
       "                                          Conditions  \\\n",
       "0                                            Covid19   \n",
       "1                               SARS-CoV-2 Infection   \n",
       "2                                            covid19   \n",
       "3                                              COVID   \n",
       "4  Maternal Fetal Infection Transmission|COVID-19...   \n",
       "\n",
       "                                       Interventions  \\\n",
       "0   Diagnostic Test: ID Now™ COVID-19 Screening Test   \n",
       "1    Drug: Drug COVID19-0001-USR|Drug: normal saline   \n",
       "2  Other: Lung CT scan analysis in COVID-19 patients   \n",
       "3          Diagnostic Test: COVID 19 Diagnostic Test   \n",
       "4  Diagnostic Test: Diagnosis of SARS-Cov2 by RT-...   \n",
       "\n",
       "                                    Outcome Measures  \\\n",
       "0  Evaluate the diagnostic performance of the ID ...   \n",
       "1  Change on viral load results from baseline aft...   \n",
       "2  A qualitative analysis of parenchymal lung dam...   \n",
       "3  Proportion of asymptomatic subjects|Proportion...   \n",
       "4  COVID-19 by positive PCR in cord blood and / o...   \n",
       "\n",
       "                               Sponsor/Collaborators  Gender  \\\n",
       "0              Groupe Hospitalier Paris Saint Joseph     All   \n",
       "1                         United Medical Specialties     All   \n",
       "2                       University of Milano Bicocca     All   \n",
       "3                    Hong Kong Sanatorium & Hospital     All   \n",
       "4  Centre Hospitalier Régional d'Orléans|Centre d...  Female   \n",
       "\n",
       "                                         Age           Phases  Enrollment  \\\n",
       "0  18 Years and older   (Adult, Older Adult)   Not Applicable      1000.0   \n",
       "1  18 Years and older   (Adult, Older Adult)  Phase 1|Phase 2        60.0   \n",
       "2  18 Years and older   (Adult, Older Adult)              NaN       500.0   \n",
       "3                  Child, Adult, Older Adult              NaN      2500.0   \n",
       "4             18 Years to 48 Years   (Adult)              NaN        50.0   \n",
       "\n",
       "  Funded Bys      Study Type  \\\n",
       "0      Other  Interventional   \n",
       "1      Other  Interventional   \n",
       "2      Other   Observational   \n",
       "3   Industry   Observational   \n",
       "4      Other   Observational   \n",
       "\n",
       "                                       Study Designs         Other IDs  \\\n",
       "0  Allocation: N/A|Intervention Model: Single Gro...       COVID-IDNow   \n",
       "1  Allocation: Randomized|Intervention Model: Par...  COVID19-0001-USR   \n",
       "2  Observational Model: Cohort|Time Perspective: ...       TAC-COVID19   \n",
       "3  Observational Model: Cohort|Time Perspective: ...        RC-2020-08   \n",
       "4  Observational Model: Cohort|Time Perspective: ...      CHRO-2020-10   \n",
       "\n",
       "         Start Date Primary Completion Date   Completion Date  \\\n",
       "0  November 9, 2020       December 22, 2020    April 30, 2021   \n",
       "1  November 2, 2020       December 15, 2020  January 29, 2021   \n",
       "2       May 7, 2020           June 15, 2021     June 15, 2021   \n",
       "3      May 25, 2020           July 31, 2020   August 31, 2020   \n",
       "4       May 5, 2020                May 2021          May 2021   \n",
       "\n",
       "       First Posted Results First Posted Last Update Posted  \\\n",
       "0     March 8, 2021                  NaN      March 8, 2021   \n",
       "1  October 20, 2020                  NaN   October 20, 2020   \n",
       "2      May 20, 2020                  NaN   November 9, 2020   \n",
       "3      June 4, 2020                  NaN       June 4, 2020   \n",
       "4      May 20, 2020                  NaN       June 4, 2020   \n",
       "\n",
       "                                           Locations Study Documents  \\\n",
       "0  Groupe Hospitalier Paris Saint-Joseph, Paris, ...             NaN   \n",
       "1       Cimedical, Barranquilla, Atlantico, Colombia             NaN   \n",
       "2  Ospedale Papa Giovanni XXIII, Bergamo, Italy|P...             NaN   \n",
       "3  Hong Kong Sanatorium & Hospital, Hong Kong, Ho...             NaN   \n",
       "4                       CHR Orléans, Orléans, France             NaN   \n",
       "\n",
       "                                           URL  \n",
       "0  https://ClinicalTrials.gov/show/NCT04785898  \n",
       "1  https://ClinicalTrials.gov/show/NCT04595136  \n",
       "2  https://ClinicalTrials.gov/show/NCT04395482  \n",
       "3  https://ClinicalTrials.gov/show/NCT04416061  \n",
       "4  https://ClinicalTrials.gov/show/NCT04395924  "
      ]
     },
     "execution_count": 2,
     "metadata": {},
     "output_type": "execute_result"
    }
   ],
   "source": [
    "df.head()\n"
   ]
  },
  {
   "cell_type": "markdown",
   "id": "206d0866",
   "metadata": {},
   "source": [
    "## 3. Columns & basic info"
   ]
  },
  {
   "cell_type": "code",
   "execution_count": 3,
   "id": "75e08028",
   "metadata": {},
   "outputs": [
    {
     "name": "stdout",
     "output_type": "stream",
     "text": [
      "<class 'pandas.core.frame.DataFrame'>\n",
      "RangeIndex: 5783 entries, 0 to 5782\n",
      "Data columns (total 27 columns):\n",
      " #   Column                   Non-Null Count  Dtype  \n",
      "---  ------                   --------------  -----  \n",
      " 0   Rank                     5783 non-null   int64  \n",
      " 1   NCT Number               5783 non-null   object \n",
      " 2   Title                    5783 non-null   object \n",
      " 3   Acronym                  2480 non-null   object \n",
      " 4   Status                   5783 non-null   object \n",
      " 5   Study Results            5783 non-null   object \n",
      " 6   Conditions               5783 non-null   object \n",
      " 7   Interventions            4897 non-null   object \n",
      " 8   Outcome Measures         5748 non-null   object \n",
      " 9   Sponsor/Collaborators    5783 non-null   object \n",
      " 10  Gender                   5773 non-null   object \n",
      " 11  Age                      5783 non-null   object \n",
      " 12  Phases                   3322 non-null   object \n",
      " 13  Enrollment               5749 non-null   float64\n",
      " 14  Funded Bys               5783 non-null   object \n",
      " 15  Study Type               5783 non-null   object \n",
      " 16  Study Designs            5748 non-null   object \n",
      " 17  Other IDs                5782 non-null   object \n",
      " 18  Start Date               5749 non-null   object \n",
      " 19  Primary Completion Date  5747 non-null   object \n",
      " 20  Completion Date          5747 non-null   object \n",
      " 21  First Posted             5783 non-null   object \n",
      " 22  Results First Posted     36 non-null     object \n",
      " 23  Last Update Posted       5783 non-null   object \n",
      " 24  Locations                5198 non-null   object \n",
      " 25  Study Documents          182 non-null    object \n",
      " 26  URL                      5783 non-null   object \n",
      "dtypes: float64(1), int64(1), object(25)\n",
      "memory usage: 1.2+ MB\n"
     ]
    },
    {
     "data": {
      "text/plain": [
       "Results First Posted       99.377486\n",
       "Study Documents            96.852845\n",
       "Acronym                    57.115684\n",
       "Phases                     42.555767\n",
       "Interventions              15.320768\n",
       "Locations                  10.115857\n",
       "Completion Date             0.622514\n",
       "Primary Completion Date     0.622514\n",
       "Study Designs               0.605222\n",
       "Outcome Measures            0.605222\n",
       "Enrollment                  0.587930\n",
       "Start Date                  0.587930\n",
       "Gender                      0.172921\n",
       "Other IDs                   0.017292\n",
       "Last Update Posted          0.000000\n",
       "dtype: float64"
      ]
     },
     "execution_count": 3,
     "metadata": {},
     "output_type": "execute_result"
    }
   ],
   "source": [
    "df.info()\n",
    "\n",
    "# show a quick count of nulls\n",
    "(df.isnull().mean()*100).sort_values(ascending=False).head(15)\n"
   ]
  },
  {
   "cell_type": "markdown",
   "id": "35644dec",
   "metadata": {},
   "source": [
    "## 4. Cleaning (minimal and explainable)\n",
    "- Drop obviously useless columns (URL, NCT Number)\n",
    "- Fill categorical missing values with a `Missing_` marker\n",
    "- Impute numeric `Enrollment` with median\n",
    "- Extract `Country` from `Locations` if available"
   ]
  },
  {
   "cell_type": "code",
   "execution_count": 4,
   "id": "bff4d2a5",
   "metadata": {},
   "outputs": [
    {
     "name": "stdout",
     "output_type": "stream",
     "text": [
      "After cleaning shape: (5783, 26)\n"
     ]
    },
    {
     "data": {
      "text/plain": [
       "Status_simple\n",
       "Recruiting            2805\n",
       "Completed             1025\n",
       "Not yet recruiting    1004\n",
       "Other                  949\n",
       "Name: count, dtype: int64"
      ]
     },
     "execution_count": 4,
     "metadata": {},
     "output_type": "execute_result"
    }
   ],
   "source": [
    "# Keep a copy\n",
    "orig = df.copy()\n",
    "\n",
    "# Drop columns that are identifiers or too long for this compact project\n",
    "drop_cols = [c for c in ['NCT Number','URL','Study Documents'] if c in df.columns]\n",
    "df = df.drop(columns=[c for c in drop_cols if c in df.columns])\n",
    "\n",
    "# Make Country feature from Locations\n",
    "if 'Locations' in df.columns:\n",
    "    df['Country'] = df['Locations'].astype(str).apply(lambda x: x.split(',')[-1].strip() if pd.notna(x) and ',' in x else (x.strip() if pd.notna(x) else 'Missing_Location'))\n",
    "\n",
    "# Fill categorical missing with 'Missing_<col>'\n",
    "cat_cols = df.select_dtypes(include=['object']).columns.tolist()\n",
    "for c in cat_cols:\n",
    "    df[c] = df[c].fillna(f'Missing_{c}')\n",
    "\n",
    "# Enrollment median fill\n",
    "if 'Enrollment' in df.columns:\n",
    "    df['Enrollment'] = pd.to_numeric(df['Enrollment'], errors='coerce')\n",
    "    med = df['Enrollment'].median()\n",
    "    df['Enrollment'] = df['Enrollment'].fillna(med)\n",
    "\n",
    "# Simplify Status: keep top 3 statuses, map others to 'Other'\n",
    "top_status = df['Status'].value_counts().index[:3].tolist()\n",
    "df['Status_simple'] = df['Status'].apply(lambda x: x if x in top_status else 'Other')\n",
    "\n",
    "print('After cleaning shape:', df.shape)\n",
    "df['Status_simple'].value_counts()\n"
   ]
  },
  {
   "cell_type": "markdown",
   "id": "9fa30aaa",
   "metadata": {},
   "source": [
    "## 5. EDA visualizations (simple counts)\n",
    "We'll show counts for Status, Phases, Country (top 10), and Enrollment distribution."
   ]
  },
  {
   "cell_type": "code",
   "execution_count": 5,
   "id": "92751504",
   "metadata": {},
   "outputs": [
    {
     "name": "stdout",
     "output_type": "stream",
     "text": [
      "Plots generated\n"
     ]
    },
    {
     "data": {
      "image/png": "[encoded data removed]",
      "text/plain": [
       "<Figure size 600x400 with 1 Axes>"
      ]
     },
     "metadata": {},
     "output_type": "display_data"
    },
    {
     "data": {
      "image/png": "[encoded data removed]",
      "text/plain": [
       "<Figure size 600x400 with 1 Axes>"
      ]
     },
     "metadata": {},
     "output_type": "display_data"
    },
    {
     "data": {
      "image/png": "[encoded data removed]",
      "text/plain": [
       "<Figure size 600x400 with 1 Axes>"
      ]
     },
     "metadata": {},
     "output_type": "display_data"
    },
    {
     "data": {
      "image/png": "[encoded data removed]",
      "text/plain": [
       "<Figure size 600x400 with 1 Axes>"
      ]
     },
     "metadata": {},
     "output_type": "display_data"
    }
   ],
   "source": [
    "import matplotlib.pyplot as plt\n",
    "\n",
    "plt.figure(figsize=(6,4))\n",
    "df['Status_simple'].value_counts().plot(kind='bar')\n",
    "plt.title('Status (simplified)')\n",
    "plt.tight_layout()\n",
    "\n",
    "plt.figure(figsize=(6,4))\n",
    "df['Phases'].fillna('Missing_Phases').value_counts().head(8).plot(kind='bar')\n",
    "plt.title('Top Phases')\n",
    "plt.tight_layout()\n",
    "\n",
    "plt.figure(figsize=(6,4))\n",
    "df['Country'].value_counts().head(10).plot(kind='bar')\n",
    "plt.title('Top 10 Countries')\n",
    "plt.tight_layout()\n",
    "\n",
    "plt.figure(figsize=(6,4))\n",
    "df['Enrollment'].replace(0, np.nan).dropna().map(lambda x: np.log1p(x)).plot(kind='hist', bins=40)\n",
    "plt.title('Log(Enrollment) distribution')\n",
    "plt.tight_layout()\n",
    "\n",
    "print('Plots generated')\n"
   ]
  },
  {
   "cell_type": "markdown",
   "id": "16343482",
   "metadata": {},
   "source": [
    "## 6. Feature selection for ML\n",
    "We'll use a small set of features:\n",
    "- Enrollment (numeric)\n",
    "- Phases (categorical)\n",
    "- Study Type (categorical)\n",
    "- Country (categorical)\n",
    "- Gender (categorical)\n",
    "Target: `Status_simple` (3 frequent classes + Other)"
   ]
  },
  {
   "cell_type": "code",
   "execution_count": 6,
   "id": "58dfd2e6",
   "metadata": {},
   "outputs": [
    {
     "name": "stdout",
     "output_type": "stream",
     "text": [
      "Accuracy: 0.520746887966805\n",
      "\n",
      "Classification report:\n",
      "\n",
      "                    precision    recall  f1-score   support\n",
      "\n",
      "         Completed       0.34      0.27      0.30       256\n",
      "Not yet recruiting       0.62      0.57      0.60       251\n",
      "             Other       0.35      0.23      0.28       237\n",
      "        Recruiting       0.57      0.69      0.62       702\n",
      "\n",
      "          accuracy                           0.52      1446\n",
      "         macro avg       0.47      0.44      0.45      1446\n",
      "      weighted avg       0.50      0.52      0.51      1446\n",
      "\n"
     ]
    }
   ],
   "source": [
    "from sklearn.model_selection import train_test_split\n",
    "from sklearn.pipeline import Pipeline\n",
    "from sklearn.compose import ColumnTransformer\n",
    "from sklearn.impute import SimpleImputer\n",
    "from sklearn.preprocessing import OneHotEncoder, StandardScaler\n",
    "from sklearn.ensemble import RandomForestClassifier\n",
    "from sklearn.metrics import classification_report, accuracy_score\n",
    "\n",
    "features = []\n",
    "for c in ['Enrollment','Phases','Study Type','Country','Gender']:\n",
    "    if c in df.columns:\n",
    "        features.append(c)\n",
    "\n",
    "X = df[features].copy()\n",
    "y = df['Status_simple'].copy()\n",
    "\n",
    "# Drop rows where target is missing (shouldn't be) and small safety\n",
    "mask = y.notna()\n",
    "X = X[mask]; y = y[mask]\n",
    "\n",
    "# Simple split\n",
    "X_train, X_test, y_train, y_test = train_test_split(X, y, test_size=0.25, random_state=42, stratify=y)\n",
    "\n",
    "# Preprocessing\n",
    "num_features = [f for f in features if X[f].dtype in [int,float] or f=='Enrollment']\n",
    "cat_features = [f for f in features if f not in num_features]\n",
    "\n",
    "num_pipeline = Pipeline([('imputer', SimpleImputer(strategy='median')),('scaler', StandardScaler())])\n",
    "cat_pipeline = Pipeline([('imputer', SimpleImputer(strategy='constant', fill_value='Missing_cat')),('ohe', OneHotEncoder(handle_unknown='ignore'))])\n",
    "\n",
    "preproc = ColumnTransformer([('num', num_pipeline, num_features),('cat', cat_pipeline, cat_features)])\n",
    "\n",
    "clf = Pipeline([('preproc', preproc),('model', RandomForestClassifier(n_estimators=100, random_state=42))])\n",
    "\n",
    "clf.fit(X_train, y_train)\n",
    "\n",
    "pred = clf.predict(X_test)\n",
    "print('Accuracy:', accuracy_score(y_test, pred))\n",
    "print('\\nClassification report:\\n')\n",
    "print(classification_report(y_test, pred))\n"
   ]
  },
  {
   "cell_type": "markdown",
   "id": "75685f25",
   "metadata": {},
   "source": [
    "## 7. Short conclusions & next steps\n",
    "- Briefly summarize model performance and suggestions for improvement (feature engineering, more advanced models, text features)."
   ]
  },
  {
   "cell_type": "code",
   "execution_count": 7,
   "id": "12ba5fb6",
   "metadata": {},
   "outputs": [
    {
     "name": "stdout",
     "output_type": "stream",
     "text": [
      "Top 5 feature names from one-hot (approx):\n",
      "Categorical feature categories (sample):\n",
      "Phases -> ['Early Phase 1' 'Missing_Phases' 'Not Applicable' 'Phase 1'\n",
      " 'Phase 1|Phase 2']\n",
      "Study Type -> ['Expanded Access' 'Expanded Access:Individual Patients'\n",
      " 'Expanded Access:Individual Patients|Intermediate-size Population'\n",
      " 'Expanded Access:Individual Patients|Treatment IND/Protocol'\n",
      " 'Expanded Access:Intermediate-size Population']\n",
      "Country -> ['Albania' 'Argentina' 'Australia' 'Austria' 'Azerbaijan']\n",
      "Gender -> ['All' 'Female' 'Male' 'Missing_Gender']\n",
      "\n",
      "Notebook complete. Save and inspect results.\n"
     ]
    }
   ],
   "source": [
    "print('Top 5 feature names from one-hot (approx):')\n",
    "# Get feature names from preprocessor\n",
    "try:\n",
    "    ohe = clf.named_steps['preproc'].named_transformers_['cat'].named_steps['ohe']\n",
    "    cat_cols = clf.named_steps['preproc'].transformers_[1][2]\n",
    "    # approximate, printing categories\n",
    "    print('Categorical feature categories (sample):')\n",
    "    for name, cats in zip(cat_cols, ohe.categories_):\n",
    "        print(name, '->', cats[:5])\n",
    "except Exception as e:\n",
    "    print('Could not print OHE categories:', e)\n",
    "\n",
    "print('\\nNotebook complete. Save and inspect results.')\n"
   ]
  },
  {
   "cell_type": "code",
   "execution_count": null,
   "id": "2d7368c2",
   "metadata": {},
   "outputs": [],
   "source": []
  }
 ],
 "metadata": {
  "kernelspec": {
   "display_name": "Python 3 (ipykernel)",
   "language": "python",
   "name": "python3"
  },
  "language_info": {
   "codemirror_mode": {
    "name": "ipython",
    "version": 3
   },
   "file_extension": ".py",
   "mimetype": "text/x-python",
   "name": "python",
   "nbconvert_exporter": "python",
   "pygments_lexer": "ipython3",
   "version": "3.11.7"
  }
 },
 "nbformat": 4,
 "nbformat_minor": 5
}
